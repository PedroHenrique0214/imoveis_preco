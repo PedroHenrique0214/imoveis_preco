{
 "cells": [
  {
   "cell_type": "code",
   "execution_count": 0,
   "metadata": {
    "application/vnd.databricks.v1+cell": {
     "cellMetadata": {
      "byteLimit": 2048000,
      "rowLimit": 10000
     },
     "inputWidgets": {},
     "nuid": "04d97cbc-4e82-446d-820a-285c29407e2a",
     "showTitle": false,
     "title": ""
    }
   },
   "outputs": [],
   "source": [
    "SELECT * \n",
    "FROM gold.vendas.df_vendas "
   ]
  },
  {
   "cell_type": "code",
   "execution_count": 0,
   "metadata": {
    "application/vnd.databricks.v1+cell": {
     "cellMetadata": {
      "byteLimit": 2048000,
      "rowLimit": 10000
     },
     "inputWidgets": {},
     "nuid": "969b8712-7613-4467-bb0b-404897e90e07",
     "showTitle": false,
     "title": ""
    }
   },
   "outputs": [
    {
     "output_type": "display_data",
     "data": {
      "text/plain": [
       "Databricks visualization. Run in Databricks to view."
      ]
     },
     "metadata": {
      "application/vnd.databricks.v1.subcommand+json": {
       "baseErrorDetails": null,
       "bindings": {},
       "collapsed": false,
       "command": "%sql WITH q AS (SELECT DISTINCT ano, variacao_total_mensal, Cidade\nFROM gold.vendas.df_vendas\nWHERE mes == 'maio') SELECT `ano`,`Cidade`,PERCENTILE(`variacao_total_mensal`,0.5) `column_eae3b38192` FROM q GROUP BY `Cidade`,`ano`",
       "commandTitle": "Visualization 1",
       "commandType": "auto",
       "commandVersion": 0,
       "commentThread": [],
       "commentsVisible": false,
       "contentSha256Hex": null,
       "customPlotOptions": {
        "redashChart": [
         {
          "key": "type",
          "value": "CHART"
         },
         {
          "key": "options",
          "value": {
           "alignYAxesAtZero": true,
           "coefficient": 1,
           "columnConfigurationMap": {
            "series": {
             "column": "Cidade",
             "id": "column_eae3b38191"
            },
            "x": {
             "column": "ano",
             "id": "column_eae3b38190"
            },
            "y": [
             {
              "column": "variacao_total_mensal",
              "id": "column_eae3b38192",
              "transform": "MEDIAN"
             }
            ]
           },
           "dateTimeFormat": "DD/MM/YYYY HH:mm",
           "direction": {
            "type": "counterclockwise"
           },
           "error_y": {
            "type": "data",
            "visible": true
           },
           "globalSeriesType": "column",
           "hideXAxis": false,
           "isAggregationOn": true,
           "legend": {
            "enabled": true,
            "placement": "below",
            "traceorder": "normal"
           },
           "missingValuesAsZero": true,
           "numberFormat": "0,0.[00000]",
           "percentFormat": "0[.]00%",
           "reverseX": false,
           "series": {
            "error_y": {
             "type": "data",
             "visible": true
            },
            "percentValues": false,
            "stacking": ""
           },
           "seriesOptions": {
            "Rio de Janeiro": {
             "color": "#FB8D3D"
            },
            "São Paulo": {
             "color": "#356AFF"
            },
            "column_eae3b38192": {
             "name": "variacao_total_mensal",
             "type": "column",
             "yAxis": 0
            }
           },
           "showDataLabels": false,
           "sizemode": "diameter",
           "sortX": true,
           "sortY": true,
           "swappedAxes": true,
           "textFormat": "",
           "useAggregationsUi": true,
           "valuesOptions": {},
           "version": 2,
           "xAxis": {
            "labels": {
             "enabled": true
            },
            "type": "category"
           },
           "yAxis": [
            {
             "title": {
              "text": "Variação dos preços "
             },
             "type": "-"
            },
            {
             "opposite": true,
             "type": "-"
            }
           ]
          }
         }
        ]
       },
       "datasetPreviewNameToCmdIdMap": {},
       "diffDeletes": [],
       "diffInserts": [],
       "displayType": "redashChart",
       "error": null,
       "errorDetails": null,
       "errorSummary": null,
       "errorTraceType": null,
       "finishTime": 0,
       "globalVars": {},
       "guid": "",
       "height": "auto",
       "hideCommandCode": false,
       "hideCommandResult": false,
       "iPythonMetadata": null,
       "inputWidgets": {},
       "isLockedInExamMode": false,
       "latestUser": "a user",
       "latestUserId": null,
       "listResultMetadata": null,
       "metadata": {},
       "nuid": "13491415-0cc8-4d84-a127-c255d1d840c1",
       "origId": 0,
       "parentHierarchy": [],
       "pivotAggregation": null,
       "pivotColumns": null,
       "position": 3.0,
       "resultDbfsErrorMessage": null,
       "resultDbfsStatus": "INLINED_IN_TREE",
       "results": null,
       "showCommandTitle": false,
       "startTime": 0,
       "state": "input",
       "streamStates": {},
       "subcommandOptions": {
        "queryPlan": {
         "groups": [
          {
           "column": "ano",
           "type": "column"
          },
          {
           "column": "Cidade",
           "type": "column"
          }
         ],
         "selects": [
          {
           "column": "ano",
           "type": "column"
          },
          {
           "column": "Cidade",
           "type": "column"
          },
          {
           "alias": "column_eae3b38192",
           "args": [
            {
             "column": "variacao_total_mensal",
             "type": "column"
            },
            {
             "number": 0.5,
             "type": "number"
            }
           ],
           "function": "PERCENTILE",
           "type": "function"
          }
         ]
        }
       },
       "submitTime": 0,
       "subtype": "tableResultSubCmd.visualization",
       "tableResultIndex": 0,
       "useConsistentColors": false,
       "version": "CommandV1",
       "width": "auto",
       "workflows": null,
       "xColumns": null,
       "yColumns": null
      }
     },
     "output_type": "display_data"
    }
   ],
   "source": [
    "SELECT DISTINCT ano, variacao_total_mensal, Cidade\n",
    "FROM gold.vendas.df_vendas\n",
    "WHERE mes == 'maio'"
   ]
  },
  {
   "cell_type": "code",
   "execution_count": 0,
   "metadata": {
    "application/vnd.databricks.v1+cell": {
     "cellMetadata": {
      "byteLimit": 2048000,
      "rowLimit": 10000
     },
     "inputWidgets": {},
     "nuid": "d289d483-5501-4ddc-9ad2-4f4e82390ab3",
     "showTitle": false,
     "title": ""
    }
   },
   "outputs": [
    {
     "output_type": "display_data",
     "data": {
      "text/plain": [
       "Databricks visualization. Run in Databricks to view."
      ]
     },
     "metadata": {
      "application/vnd.databricks.v1.subcommand+json": {
       "baseErrorDetails": null,
       "bindings": {},
       "collapsed": false,
       "command": "%sql WITH q AS (SELECT ano, mes, preco_medio_m2_total, cidade\nFROM gold.vendas.df_vendas) SELECT `ano`,PERCENTILE(`preco_medio_m2_total`,0.5) `column_eae3b38198`,`cidade` FROM q GROUP BY `ano`,`cidade`",
       "commandTitle": "preço_m2",
       "commandType": "auto",
       "commandVersion": 0,
       "commentThread": [],
       "commentsVisible": false,
       "contentSha256Hex": null,
       "customPlotOptions": {
        "redashChart": [
         {
          "key": "type",
          "value": "CHART"
         },
         {
          "key": "options",
          "value": {
           "alignYAxesAtZero": true,
           "coefficient": 1,
           "columnConfigurationMap": {
            "series": {
             "column": "cidade",
             "id": "column_eae3b381100"
            },
            "x": {
             "column": "ano",
             "id": "column_eae3b38195"
            },
            "y": [
             {
              "column": "preco_medio_m2_total",
              "id": "column_eae3b38198",
              "transform": "MEDIAN"
             }
            ]
           },
           "dateTimeFormat": "DD/MM/YYYY HH:mm",
           "direction": {
            "type": "counterclockwise"
           },
           "error_y": {
            "type": "data",
            "visible": true
           },
           "globalSeriesType": "column",
           "isAggregationOn": true,
           "legend": {
            "enabled": true,
            "placement": "below",
            "traceorder": "normal"
           },
           "missingValuesAsZero": true,
           "numberFormat": "0,. 0.[00000]",
           "percentFormat": "0[.]00%",
           "series": {
            "error_y": {
             "type": "data",
             "visible": true
            },
            "stacking": ""
           },
           "seriesOptions": {
            "Rio de Janeiro": {
             "color": "#FB8D3D"
            },
            "São Paulo": {
             "color": "#356AFF"
            },
            "column_eae3b38198": {
             "type": "column",
             "yAxis": 0
            }
           },
           "showDataLabels": false,
           "sizemode": "diameter",
           "sortX": true,
           "sortY": true,
           "swappedAxes": true,
           "textFormat": "",
           "useAggregationsUi": true,
           "valuesOptions": {},
           "version": 2,
           "xAxis": {
            "labels": {
             "enabled": true
            },
            "type": "-"
           },
           "yAxis": [
            {
             "title": {
              "text": "Preço do metro quadrado"
             },
             "type": "-"
            },
            {
             "opposite": true,
             "type": "-"
            }
           ]
          }
         }
        ]
       },
       "datasetPreviewNameToCmdIdMap": {},
       "diffDeletes": [],
       "diffInserts": [],
       "displayType": "redashChart",
       "error": null,
       "errorDetails": null,
       "errorSummary": null,
       "errorTraceType": null,
       "finishTime": 0,
       "globalVars": {},
       "guid": "",
       "height": "auto",
       "hideCommandCode": false,
       "hideCommandResult": false,
       "iPythonMetadata": null,
       "inputWidgets": {},
       "isLockedInExamMode": false,
       "latestUser": "a user",
       "latestUserId": null,
       "listResultMetadata": null,
       "metadata": {},
       "nuid": "6cfda0f1-63de-40f4-96e8-32bd86885dc7",
       "origId": 0,
       "parentHierarchy": [],
       "pivotAggregation": null,
       "pivotColumns": null,
       "position": 4.0,
       "resultDbfsErrorMessage": null,
       "resultDbfsStatus": "INLINED_IN_TREE",
       "results": null,
       "showCommandTitle": false,
       "startTime": 0,
       "state": "input",
       "streamStates": {},
       "subcommandOptions": {
        "queryPlan": {
         "groups": [
          {
           "column": "ano",
           "type": "column"
          },
          {
           "column": "cidade",
           "type": "column"
          }
         ],
         "selects": [
          {
           "column": "ano",
           "type": "column"
          },
          {
           "alias": "column_eae3b38198",
           "args": [
            {
             "column": "preco_medio_m2_total",
             "type": "column"
            },
            {
             "number": 0.5,
             "type": "number"
            }
           ],
           "function": "PERCENTILE",
           "type": "function"
          },
          {
           "column": "cidade",
           "type": "column"
          }
         ]
        }
       },
       "submitTime": 0,
       "subtype": "tableResultSubCmd.visualization",
       "tableResultIndex": 0,
       "useConsistentColors": false,
       "version": "CommandV1",
       "width": "auto",
       "workflows": null,
       "xColumns": null,
       "yColumns": null
      }
     },
     "output_type": "display_data"
    }
   ],
   "source": [
    "SELECT ano, mes, preco_medio_m2_total, cidade\n",
    "FROM gold.vendas.df_vendas"
   ]
  },
  {
   "cell_type": "code",
   "execution_count": 0,
   "metadata": {
    "application/vnd.databricks.v1+cell": {
     "cellMetadata": {
      "byteLimit": 2048000,
      "rowLimit": 10000
     },
     "inputWidgets": {},
     "nuid": "9660ed5c-1ec6-4220-9dfe-1e1bd6d3a61d",
     "showTitle": false,
     "title": ""
    }
   },
   "outputs": [
    {
     "output_type": "display_data",
     "data": {
      "text/plain": [
       "Databricks visualization. Run in Databricks to view."
      ]
     },
     "metadata": {
      "application/vnd.databricks.v1.subcommand+json": {
       "baseErrorDetails": null,
       "bindings": {},
       "collapsed": false,
       "command": "%sql WITH q AS (SELECT preco_medio_m2_1D, preco_medio_m2_2D, preco_medio_m2_3D, preco_medio_m2_4D, cidade, ano \nFROM gold.vendas.df_vendas) SELECT `ano`,PERCENTILE(`preco_medio_m2_1D`,0.5) `column_eae3b381104`,PERCENTILE(`preco_medio_m2_2D`,0.5) `column_eae3b381107`,PERCENTILE(`preco_medio_m2_3D`,0.5) `column_eae3b381110`,PERCENTILE(`preco_medio_m2_4D`,0.5) `column_eae3b381113`,`cidade` FROM q GROUP BY `ano`,`cidade`",
       "commandTitle": "Visualization 1",
       "commandType": "auto",
       "commandVersion": 0,
       "commentThread": [],
       "commentsVisible": false,
       "contentSha256Hex": null,
       "customPlotOptions": {
        "redashChart": [
         {
          "key": "type",
          "value": "CHART"
         },
         {
          "key": "options",
          "value": {
           "alignYAxesAtZero": false,
           "coefficient": 1,
           "columnConfigurationMap": {
            "series": {
             "column": "cidade",
             "id": "column_eae3b381115"
            },
            "x": {
             "column": "ano",
             "id": "column_eae3b381103"
            },
            "y": [
             {
              "column": "preco_medio_m2_1D",
              "id": "column_eae3b381104",
              "transform": "MEDIAN"
             },
             {
              "column": "preco_medio_m2_2D",
              "id": "column_eae3b381107",
              "transform": "MEDIAN"
             },
             {
              "column": "preco_medio_m2_3D",
              "id": "column_eae3b381110",
              "transform": "MEDIAN"
             },
             {
              "column": "preco_medio_m2_4D",
              "id": "column_eae3b381113",
              "transform": "MEDIAN"
             }
            ]
           },
           "dateTimeFormat": "DD/MM/YYYY HH:mm",
           "direction": {
            "type": "counterclockwise"
           },
           "error_y": {
            "type": "data",
            "visible": true
           },
           "globalSeriesType": "line",
           "isAggregationOn": true,
           "legend": {
            "enabled": true,
            "placement": "below",
            "traceorder": "normal"
           },
           "missingValuesAsZero": true,
           "numberFormat": "0,. 0.[00000]",
           "percentFormat": "0[.]00%",
           "series": {
            "error_y": {
             "type": "data",
             "visible": true
            },
            "stacking": null
           },
           "seriesOptions": {
            "Rio de Janeiro, MEDIAN(preco_medio_m2_1D)": {
             "name": "Rio de Janeiro, 1 Dormitório"
            },
            "Rio de Janeiro, MEDIAN(preco_medio_m2_2D)": {
             "name": "Rio de Janeiro, 2 Dormitórios"
            },
            "Rio de Janeiro, MEDIAN(preco_medio_m2_3D)": {
             "name": "Rio de Janeiro, 3 Dormitórios"
            },
            "Rio de Janeiro, MEDIAN(preco_medio_m2_4D)": {
             "name": "Rio de Janeiro, 4 Dormitórios"
            },
            "São Paulo, MEDIAN(preco_medio_m2_1D)": {
             "name": "São Paulo, 1 Dormitório"
            },
            "São Paulo, MEDIAN(preco_medio_m2_2D)": {
             "name": "São Paulo, 2 Dormitórios"
            },
            "São Paulo, MEDIAN(preco_medio_m2_3D)": {
             "name": "São Paulo, 3 Dormitórios"
            },
            "São Paulo, MEDIAN(preco_medio_m2_4D)": {
             "name": "São Paulo, 4 Dormitórios"
            },
            "column_eae3b381104": {
             "type": "line",
             "yAxis": 0
            },
            "column_eae3b381107": {
             "type": "line",
             "yAxis": 0
            },
            "column_eae3b381110": {
             "type": "line",
             "yAxis": 0
            },
            "column_eae3b381113": {
             "type": "line",
             "yAxis": 0
            },
            "preco_medio_m2_1D": {
             "type": "line",
             "yAxis": 0
            }
           },
           "showDataLabels": false,
           "sizemode": "diameter",
           "sortX": true,
           "sortY": true,
           "swappedAxes": false,
           "textFormat": "",
           "useAggregationsUi": true,
           "valuesOptions": {},
           "version": 2,
           "xAxis": {
            "labels": {
             "enabled": true
            },
            "type": "-"
           },
           "yAxis": [
            {
             "rangeMin": 2000,
             "title": {
              "text": "Preço do metro quadrado"
             },
             "type": "-"
            },
            {
             "opposite": true,
             "type": "-"
            }
           ]
          }
         }
        ]
       },
       "datasetPreviewNameToCmdIdMap": {},
       "diffDeletes": [],
       "diffInserts": [],
       "displayType": "redashChart",
       "error": null,
       "errorDetails": null,
       "errorSummary": null,
       "errorTraceType": null,
       "finishTime": 0,
       "globalVars": {},
       "guid": "",
       "height": "auto",
       "hideCommandCode": false,
       "hideCommandResult": false,
       "iPythonMetadata": null,
       "inputWidgets": {},
       "isLockedInExamMode": false,
       "latestUser": "a user",
       "latestUserId": null,
       "listResultMetadata": null,
       "metadata": {},
       "nuid": "b21a7ae3-362b-4de6-9897-1b7ceacd255f",
       "origId": 0,
       "parentHierarchy": [],
       "pivotAggregation": null,
       "pivotColumns": null,
       "position": 5.0,
       "resultDbfsErrorMessage": null,
       "resultDbfsStatus": "INLINED_IN_TREE",
       "results": null,
       "showCommandTitle": false,
       "startTime": 0,
       "state": "input",
       "streamStates": {},
       "subcommandOptions": {
        "queryPlan": {
         "groups": [
          {
           "column": "ano",
           "type": "column"
          },
          {
           "column": "cidade",
           "type": "column"
          }
         ],
         "selects": [
          {
           "column": "ano",
           "type": "column"
          },
          {
           "alias": "column_eae3b381104",
           "args": [
            {
             "column": "preco_medio_m2_1D",
             "type": "column"
            },
            {
             "number": 0.5,
             "type": "number"
            }
           ],
           "function": "PERCENTILE",
           "type": "function"
          },
          {
           "alias": "column_eae3b381107",
           "args": [
            {
             "column": "preco_medio_m2_2D",
             "type": "column"
            },
            {
             "number": 0.5,
             "type": "number"
            }
           ],
           "function": "PERCENTILE",
           "type": "function"
          },
          {
           "alias": "column_eae3b381110",
           "args": [
            {
             "column": "preco_medio_m2_3D",
             "type": "column"
            },
            {
             "number": 0.5,
             "type": "number"
            }
           ],
           "function": "PERCENTILE",
           "type": "function"
          },
          {
           "alias": "column_eae3b381113",
           "args": [
            {
             "column": "preco_medio_m2_4D",
             "type": "column"
            },
            {
             "number": 0.5,
             "type": "number"
            }
           ],
           "function": "PERCENTILE",
           "type": "function"
          },
          {
           "column": "cidade",
           "type": "column"
          }
         ]
        }
       },
       "submitTime": 0,
       "subtype": "tableResultSubCmd.visualization",
       "tableResultIndex": 0,
       "useConsistentColors": false,
       "version": "CommandV1",
       "width": "auto",
       "workflows": null,
       "xColumns": null,
       "yColumns": null
      }
     },
     "output_type": "display_data"
    }
   ],
   "source": [
    "SELECT preco_medio_m2_1D, preco_medio_m2_2D, preco_medio_m2_3D, preco_medio_m2_4D, cidade, ano \n",
    "FROM gold.vendas.df_vendas"
   ]
  },
  {
   "cell_type": "code",
   "execution_count": 0,
   "metadata": {
    "application/vnd.databricks.v1+cell": {
     "cellMetadata": {},
     "inputWidgets": {},
     "nuid": "32ad0817-18af-4a6c-b139-e6b644013455",
     "showTitle": false,
     "title": ""
    }
   },
   "outputs": [],
   "source": []
  }
 ],
 "metadata": {
  "application/vnd.databricks.v1+notebook": {
   "dashboards": [
    {
     "elements": [
      {
       "dashboardResultIndex": null,
       "elementNUID": "6cfda0f1-63de-40f4-96e8-32bd86885dc7",
       "elementType": "command",
       "guid": "0afb4e71-03d2-4591-9d6d-4c3f78a37e5f",
       "options": {
        "autoScaleImg": false,
        "scale": 0,
        "showTitle": true,
        "title": "Preço do metro quadrado",
        "titleAlign": "center"
       },
       "position": {
        "height": 10,
        "width": 15,
        "x": 9,
        "y": 9,
        "z": null
       },
       "resultIndex": null
      },
      {
       "dashboardResultIndex": null,
       "elementNUID": "b21a7ae3-362b-4de6-9897-1b7ceacd255f",
       "elementType": "command",
       "guid": "858d155a-d8ad-4321-a381-355c8ba75ecd",
       "options": {
        "autoScaleImg": false,
        "scale": 0,
        "showTitle": true,
        "title": "Preço do m2 por quant. de dormitório",
        "titleAlign": "center"
       },
       "position": {
        "height": 9,
        "width": 15,
        "x": 9,
        "y": 0,
        "z": null
       },
       "resultIndex": null
      },
      {
       "dashboardResultIndex": null,
       "elementNUID": "13491415-0cc8-4d84-a127-c255d1d840c1",
       "elementType": "command",
       "guid": "9b449a86-ad94-46c8-aef2-06c55597af4e",
       "options": {
        "autoScaleImg": false,
        "scale": 0,
        "showTitle": true,
        "title": "Variação do metro",
        "titleAlign": "center"
       },
       "position": {
        "height": 19,
        "width": 9,
        "x": 0,
        "y": 0,
        "z": null
       },
       "resultIndex": null
      }
     ],
     "globalVars": {},
     "guid": "",
     "layoutOption": {
      "grid": true,
      "stack": true
     },
     "nuid": "29678996-057d-4d3f-8346-24f87fceb352",
     "origId": 695788483574044,
     "title": "Dashboard de venda",
     "version": "DashboardViewV1",
     "width": 1024
    }
   ],
   "environmentMetadata": null,
   "language": "sql",
   "notebookMetadata": {
    "pythonIndentUnit": 4
   },
   "notebookName": "Análise dos dados de venda",
   "widgets": {}
  }
 },
 "nbformat": 4,
 "nbformat_minor": 0
}
