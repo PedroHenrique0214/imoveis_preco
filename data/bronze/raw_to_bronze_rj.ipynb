{
 "cells": [
  {
   "cell_type": "markdown",
   "metadata": {
    "application/vnd.databricks.v1+cell": {
     "cellMetadata": {},
     "inputWidgets": {},
     "nuid": "7190aeb1-fb68-4421-8234-2e23d2f59b88",
     "showTitle": false,
     "title": ""
    }
   },
   "source": [
    "Pegando os dados do Bucket e passando para o bronze"
   ]
  },
  {
   "cell_type": "code",
   "execution_count": 0,
   "metadata": {
    "application/vnd.databricks.v1+cell": {
     "cellMetadata": {},
     "inputWidgets": {},
     "nuid": "e63d3a8f-2c3b-4e92-87f8-0c304896a4a1",
     "showTitle": false,
     "title": ""
    }
   },
   "outputs": [],
   "source": [
    "# Vamos ver se o dataset tá no arquivo certo\n",
    "dbutils.fs.ls(\"/Volumes/raw/dados_rj/dados_rj/\")"
   ]
  },
  {
   "cell_type": "code",
   "execution_count": 0,
   "metadata": {
    "application/vnd.databricks.v1+cell": {
     "cellMetadata": {},
     "inputWidgets": {},
     "nuid": "815cd2e5-b4aa-4c3e-9d6f-e1d20897af44",
     "showTitle": false,
     "title": ""
    }
   },
   "outputs": [],
   "source": [
    "df = spark.read.format(\"csv\") \\\n",
    "    .option(\"delimiter\", \";\") \\\n",
    "    .option(\"header\", \"true\") \\\n",
    "    .load(\"/Volumes/raw/dados_rj/dados_rj/rj_venda.csv/\")\n",
    "df.display()"
   ]
  },
  {
   "cell_type": "code",
   "execution_count": 0,
   "metadata": {
    "application/vnd.databricks.v1+cell": {
     "cellMetadata": {},
     "inputWidgets": {},
     "nuid": "893e5744-307c-4705-b29d-84259fb5b2b6",
     "showTitle": false,
     "title": ""
    }
   },
   "outputs": [],
   "source": [
    "# Modificando o nome das colunas\n",
    "df = df.withColumnRenamed(\"N�mero-�ndice Total\", \"numero_indice_total\") \\\n",
    "    .withColumnRenamed(\"N�mero-�ndice 1D\", \"numero_indice_1D\") \\\n",
    "    .withColumnRenamed(\"N�mero-�ndice 2D\", \"numero_indice_2D\") \\\n",
    "    .withColumnRenamed(\"N�mero-�ndice 3D\", \"numero_indice_3D\") \\\n",
    "    .withColumnRenamed(\"N�mero-�ndice 4D\", \"numero_indice_4D\") \\\n",
    "    .withColumnRenamed(\"Var. mensal (%) Total\", \"variacao_total_mensal\") \\\n",
    "    .withColumnRenamed(\"Var. mensal (%) 1D\", \"var_mensal_1D\") \\\n",
    "    .withColumnRenamed(\"Var. mensal (%) 2D\", \"var_mensal_2D\") \\\n",
    "    .withColumnRenamed(\"Var. mensal (%) 3D\", \"var_mensal_3D\") \\\n",
    "    .withColumnRenamed(\"Var. mensal (%) 4D\", \"var_mensal_4D\") \\\n",
    "    .withColumnRenamed(\"Var. em 12 meses (%) Total\", \"variacao_total_anual\") \\\n",
    "    .withColumnRenamed(\"Var. em 12 meses (%) 1D\", \"variacao_anual_1D\") \\\n",
    "    .withColumnRenamed(\"Var. em 12 meses (%) 2D\", \"variacao_anual_2D\") \\\n",
    "    .withColumnRenamed(\"Var. em 12 meses (%) 3D\", \"variacao_anual_3D\") \\\n",
    "    .withColumnRenamed(\"Var. em 12 meses (%) 4D\", \"variacao_anual_4D\") \\\n",
    "    .withColumnRenamed(\"Pre�o m�dio (R$/m�) Total\", \"preco_medio_m2_total\") \\\n",
    "    .withColumnRenamed(\"Pre�o m�dio (R$/m�) 1D\", \"preco_medio_m2_1D\") \\\n",
    "    .withColumnRenamed(\"Pre�o m�dio (R$/m�) 2D\", \"preco_medio_m2_2D\") \\\n",
    "    .withColumnRenamed(\"Pre�o m�dio (R$/m�) 3D\", \"preco_medio_m2_3D\") \\\n",
    "    .withColumnRenamed(\"Pre�o m�dio (R$/m�) 4D\", \"preco_medio_m2_4D\") \\\n",
    "    .withColumnRenamed(\"Data\", \"data\")"
   ]
  },
  {
   "cell_type": "code",
   "execution_count": 0,
   "metadata": {
    "application/vnd.databricks.v1+cell": {
     "cellMetadata": {},
     "inputWidgets": {},
     "nuid": "d0037f2f-2c98-405d-b424-19e7b76cae23",
     "showTitle": false,
     "title": ""
    }
   },
   "outputs": [],
   "source": [
    "# Salvando o dataframe em delta na pasta bronze\n",
    "df.coalesce(1).write.format(\"delta\").saveAsTable(\"bronze.dados_rj.rj_venda\")"
   ]
  },
  {
   "cell_type": "code",
   "execution_count": 0,
   "metadata": {
    "application/vnd.databricks.v1+cell": {
     "cellMetadata": {},
     "inputWidgets": {},
     "nuid": "e20acba3-944c-411c-85f6-c98e65033c8b",
     "showTitle": false,
     "title": ""
    }
   },
   "outputs": [],
   "source": [
    "df_2 = spark.read.format(\"csv\") \\\n",
    "    .option(\"delimiter\", \";\") \\\n",
    "    .option(\"header\", \"true\") \\\n",
    "    .load(\"/Volumes/raw/dados_rj/dados_rj/rj_aluguel.csv/\")\n",
    "df_2.display()\n"
   ]
  },
  {
   "cell_type": "code",
   "execution_count": 0,
   "metadata": {
    "application/vnd.databricks.v1+cell": {
     "cellMetadata": {},
     "inputWidgets": {},
     "nuid": "a701cfc7-dd5e-4a8e-ab95-8cf9bc83a35f",
     "showTitle": false,
     "title": ""
    }
   },
   "outputs": [],
   "source": [
    "df_2 = df_2.withColumnRenamed(\"N�mero-�ndice Total\", \"numero_indice_total\") \\\n",
    "    .withColumnRenamed(\"N�mero-�ndice 1D\", \"numero_indice_1D\") \\\n",
    "    .withColumnRenamed(\"N�mero-�ndice 2D\", \"numero_indice_2D\") \\\n",
    "    .withColumnRenamed(\"N�mero-�ndice 3D\", \"numero_indice_3D\") \\\n",
    "    .withColumnRenamed(\"N�mero-�ndice 4D\", \"numero_indice_4D\") \\\n",
    "    .withColumnRenamed(\"Var. mensal (%) Total\", \"variacao_total_mensal\") \\\n",
    "    .withColumnRenamed(\"Var. mensal (%) 1D\", \"var_mensal_1D\") \\\n",
    "    .withColumnRenamed(\"Var. mensal (%) 2D\", \"var_mensal_2D\") \\\n",
    "    .withColumnRenamed(\"Var. mensal (%) 3D\", \"var_mensal_3D\") \\\n",
    "    .withColumnRenamed(\"Var. mensal (%) 4D\", \"var_mensal_4D\") \\\n",
    "    .withColumnRenamed(\"Var. em 12 meses (%) Total\", \"variacao_total_anual\") \\\n",
    "    .withColumnRenamed(\"Var. em 12 meses (%) 1D\", \"variacao_anual_1D\") \\\n",
    "    .withColumnRenamed(\"Var. em 12 meses (%) 2D\", \"variacao_anual_2D\") \\\n",
    "    .withColumnRenamed(\"Var. em 12 meses (%) 3D\", \"variacao_anual_3D\") \\\n",
    "    .withColumnRenamed(\"Var. em 12 meses (%) 4D\", \"variacao_anual_4D\") \\\n",
    "    .withColumnRenamed(\"Pre�o m�dio (R$/m�) Total\", \"preco_medio_m2_total\") \\\n",
    "    .withColumnRenamed(\"Pre�o m�dio (R$/m�) 1D\", \"preco_medio_m2_1D\") \\\n",
    "    .withColumnRenamed(\"Pre�o m�dio (R$/m�) 2D\", \"preco_medio_m2_2D\") \\\n",
    "    .withColumnRenamed(\"Pre�o m�dio (R$/m�) 3D\", \"preco_medio_m2_3D\") \\\n",
    "    .withColumnRenamed(\"Pre�o m�dio (R$/m�) 4D\", \"preco_medio_m2_4D\") \\\n",
    "    .withColumnRenamed(\"(% - mensalizada) Total\", \"var.mensalizada_total\") \\\n",
    "    .withColumnRenamed(\"(% - mensalizada) 1D\", \"var.mensalizada_1D\") \\\n",
    "    .withColumnRenamed(\"(% - mensalizada) 2D\", \"var.mensalizada_2D\") \\\n",
    "    .withColumnRenamed(\"(% - mensalizada) 3D\", \"var.mensalizada_3D\") \\\n",
    "    .withColumnRenamed(\"(% - mensalizada) 4D\", \"var.mensalizada_4D\") \\\n",
    "    .withColumnRenamed(\"Data\", \"data\")"
   ]
  },
  {
   "cell_type": "code",
   "execution_count": 0,
   "metadata": {
    "application/vnd.databricks.v1+cell": {
     "cellMetadata": {},
     "inputWidgets": {},
     "nuid": "1c674270-f9cb-4227-abdd-bfcd8225d504",
     "showTitle": false,
     "title": ""
    }
   },
   "outputs": [],
   "source": [
    "df_2.coalesce(1).write.format(\"delta\").saveAsTable(\"bronze.dados_rj.rj_aluguel\")"
   ]
  }
 ],
 "metadata": {
  "application/vnd.databricks.v1+notebook": {
   "dashboards": [],
   "environmentMetadata": null,
   "language": "python",
   "notebookMetadata": {
    "pythonIndentUnit": 4
   },
   "notebookName": "raw_to_bronze_rj",
   "widgets": {}
  }
 },
 "nbformat": 4,
 "nbformat_minor": 0
}
