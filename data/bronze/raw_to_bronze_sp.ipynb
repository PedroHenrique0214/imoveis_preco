{
 "cells": [
  {
   "cell_type": "code",
   "execution_count": 0,
   "metadata": {
    "application/vnd.databricks.v1+cell": {
     "cellMetadata": {
      "byteLimit": 2048000,
      "rowLimit": 10000
     },
     "inputWidgets": {},
     "nuid": "cab98a3a-6fad-43f4-ae7d-a99fc5a47396",
     "showTitle": true,
     "title": "Trazendo do raw para bronze dados SP"
    }
   },
   "outputs": [],
   "source": [
    "# Verificando se está na pasta correta\n",
    "dbutils.fs.ls(\"/Volumes/raw/dados_sp/dados_sp/\")"
   ]
  },
  {
   "cell_type": "code",
   "execution_count": 0,
   "metadata": {
    "application/vnd.databricks.v1+cell": {
     "cellMetadata": {
      "byteLimit": 2048000,
      "rowLimit": 10000
     },
     "inputWidgets": {},
     "nuid": "c6738d79-35de-482f-8e41-709795d12e74",
     "showTitle": false,
     "title": ""
    }
   },
   "outputs": [],
   "source": [
    "# Lendo os dados do bucket com spark\n",
    "df = spark.read.format(\"csv\").load(\"/Volumes/raw/dados_sp/dados_sp/sp_venda.csv\")\n",
    "df.display()"
   ]
  },
  {
   "cell_type": "markdown",
   "metadata": {
    "application/vnd.databricks.v1+cell": {
     "cellMetadata": {},
     "inputWidgets": {},
     "nuid": "644dcaba-1dca-4ae8-bd8e-16d444018b5a",
     "showTitle": false,
     "title": ""
    }
   },
   "source": [
    "O formato dos dados estão errados, vou tentar novamente\n",
    "- Corrigindo o delimitador;\n",
    "- Colocando um \"header\"."
   ]
  },
  {
   "cell_type": "code",
   "execution_count": 0,
   "metadata": {
    "application/vnd.databricks.v1+cell": {
     "cellMetadata": {
      "byteLimit": 2048000,
      "rowLimit": 10000
     },
     "inputWidgets": {},
     "nuid": "d5d3312f-08c3-4829-a434-306e5fc8a584",
     "showTitle": false,
     "title": ""
    }
   },
   "outputs": [],
   "source": [
    "# Vamos tentar novamente\n",
    "df = spark.read.format(\"csv\") \\\n",
    "  .option(\"delimiter\", \";\") \\\n",
    "  .option(\"header\", \"true\") \\\n",
    "  .load(\"/Volumes/raw/dados_sp/dados_sp/sp_venda.csv\")"
   ]
  },
  {
   "cell_type": "code",
   "execution_count": 0,
   "metadata": {
    "application/vnd.databricks.v1+cell": {
     "cellMetadata": {
      "byteLimit": 2048000,
      "rowLimit": 10000
     },
     "inputWidgets": {},
     "nuid": "4a73fb08-1a4c-435f-9c22-48b9a6b0243e",
     "showTitle": false,
     "title": ""
    }
   },
   "outputs": [],
   "source": [
    "df.display()"
   ]
  },
  {
   "cell_type": "code",
   "execution_count": 0,
   "metadata": {
    "application/vnd.databricks.v1+cell": {
     "cellMetadata": {
      "byteLimit": 2048000,
      "rowLimit": 10000
     },
     "inputWidgets": {},
     "nuid": "1772fc0c-6ce9-4e14-83ec-8178f8af2eeb",
     "showTitle": false,
     "title": ""
    }
   },
   "outputs": [],
   "source": [
    "# Renomeando as colunas\n",
    "df = df.withColumnRenamed(\"Numero-indice Total\", \"numero_indice_total\") \\\n",
    "    .withColumnRenamed(\"Numero-indice 1D\", \"numero_indice_1D\") \\\n",
    "    .withColumnRenamed(\"Numero-indice 2D\", \"numero_indice_2D\") \\\n",
    "    .withColumnRenamed(\"Numero-indice 3D\", \"numero_indice_3D\") \\\n",
    "    .withColumnRenamed(\"Numero-indice 4D\", \"numero_indice_4D\") \\\n",
    "    .withColumnRenamed(\"Var. mensal (%) Total\", \"variacao_total_mensal\") \\\n",
    "    .withColumnRenamed(\"Var. mensal (%) 1D\", \"var_mensal_1D\") \\\n",
    "    .withColumnRenamed(\"Var. mensal (%) 2D\", \"var_mensal_2D\") \\\n",
    "    .withColumnRenamed(\"Var. mensal (%) 3D\", \"var_mensal_3D\") \\\n",
    "    .withColumnRenamed(\"Var. mensal (%) 4D\", \"var_mensal_4D\") \\\n",
    "    .withColumnRenamed(\"Var. em 12 meses (%) Total\", \"variacao_total_anual\") \\\n",
    "    .withColumnRenamed(\"Var. em 12 meses (%) 1D\", \"variacao_anual_1D\") \\\n",
    "    .withColumnRenamed(\"Var. em 12 meses (%) 2D\", \"variacao_anual_2D\") \\\n",
    "    .withColumnRenamed(\"Var. em 12 meses (%) 3D\", \"variacao_anual_3D\") \\\n",
    "    .withColumnRenamed(\"Var. em 12 meses (%) 4D\", \"variacao_anual_4D\") \\\n",
    "    .withColumnRenamed(\"Preco medio (R$/m2) Total\", \"preco_medio_m2_total\") \\\n",
    "    .withColumnRenamed(\"Preco medio (R$/m2) 1D\", \"preco_medio_m2_1D\") \\\n",
    "    .withColumnRenamed(\"Preco medio (R$/m2) 2D\", \"preco_medio_m2_2D\") \\\n",
    "    .withColumnRenamed(\"Preco medio (R$/m2) 3D\", \"preco_medio_m2_3D\") \\\n",
    "    .withColumnRenamed(\"Preco medio (R$/m2) 4D\", \"preco_medio_m2_4D\") \\\n",
    "    .withColumnRenamed(\"Data\", \"data\")"
   ]
  },
  {
   "cell_type": "code",
   "execution_count": 0,
   "metadata": {
    "application/vnd.databricks.v1+cell": {
     "cellMetadata": {
      "byteLimit": 2048000,
      "rowLimit": 10000
     },
     "inputWidgets": {},
     "nuid": "dc038d94-e2b4-4b16-84e2-4dc12fd50ed5",
     "showTitle": false,
     "title": ""
    }
   },
   "outputs": [],
   "source": [
    "df.display()"
   ]
  },
  {
   "cell_type": "code",
   "execution_count": 0,
   "metadata": {
    "application/vnd.databricks.v1+cell": {
     "cellMetadata": {
      "byteLimit": 2048000,
      "rowLimit": 10000
     },
     "inputWidgets": {},
     "nuid": "4d2c1ae6-ae5e-48e3-91df-8c3a1cb3449d",
     "showTitle": false,
     "title": ""
    }
   },
   "outputs": [],
   "source": [
    "# Salvando o dataframe em delta na pasta bronze\n",
    "df.coalesce(1).write.format(\"delta\").saveAsTable(\"bronze.dados_sp.sp_venda\")"
   ]
  },
  {
   "cell_type": "markdown",
   "metadata": {
    "application/vnd.databricks.v1+cell": {
     "cellMetadata": {},
     "inputWidgets": {},
     "nuid": "17b814b6-6a20-4e8e-b175-14be62ef0248",
     "showTitle": false,
     "title": ""
    }
   },
   "source": [
    "Vou fazer a mesma coisa com sp_aluguel"
   ]
  },
  {
   "cell_type": "code",
   "execution_count": 0,
   "metadata": {
    "application/vnd.databricks.v1+cell": {
     "cellMetadata": {
      "byteLimit": 2048000,
      "rowLimit": 10000
     },
     "inputWidgets": {},
     "nuid": "a52b0981-f23e-4c80-9e52-ec56fde64a7f",
     "showTitle": false,
     "title": ""
    }
   },
   "outputs": [],
   "source": [
    "df_2 = spark.read.format(\"csv\").load(\"/Volumes/raw/dados_sp/dados_sp/sp_aluguel.csv\")\n",
    "df_2.display()"
   ]
  },
  {
   "cell_type": "code",
   "execution_count": 0,
   "metadata": {
    "application/vnd.databricks.v1+cell": {
     "cellMetadata": {
      "byteLimit": 2048000,
      "rowLimit": 10000
     },
     "inputWidgets": {},
     "nuid": "f74f593a-bfc0-438b-b8cc-ee69214db8e3",
     "showTitle": false,
     "title": ""
    }
   },
   "outputs": [],
   "source": [
    "df_2 = spark.read.format(\"csv\") \\\n",
    "  .option(\"delimiter\", \";\") \\\n",
    "  .option(\"header\", \"true\") \\\n",
    "  .load(\"/Volumes/raw/dados_sp/dados_sp/sp_aluguel.csv\")"
   ]
  },
  {
   "cell_type": "code",
   "execution_count": 0,
   "metadata": {
    "application/vnd.databricks.v1+cell": {
     "cellMetadata": {
      "byteLimit": 2048000,
      "rowLimit": 10000
     },
     "inputWidgets": {},
     "nuid": "41acf500-8460-4969-baab-68e025e08040",
     "showTitle": false,
     "title": ""
    }
   },
   "outputs": [],
   "source": [
    "df_2 = df_2.withColumnRenamed(\"N�mero-�ndice Total\", \"numero_indice_total\") \\\n",
    "    .withColumnRenamed(\"N�mero-�ndice 1D\", \"numero_indice_1D\") \\\n",
    "    .withColumnRenamed(\"N�mero-�ndice 2D\", \"numero_indice_2D\") \\\n",
    "    .withColumnRenamed(\"N�mero-�ndice 3D\", \"numero_indice_3D\") \\\n",
    "    .withColumnRenamed(\"N�mero-�ndice 4D\", \"numero_indice_4D\") \\\n",
    "    .withColumnRenamed(\"Var. mensal (%) Total\", \"variacao_total_mensal\") \\\n",
    "    .withColumnRenamed(\"Var. mensal (%) 1D\", \"var_mensal_1D\") \\\n",
    "    .withColumnRenamed(\"Var. mensal (%) 2D\", \"var_mensal_2D\") \\\n",
    "    .withColumnRenamed(\"Var. mensal (%) 3D\", \"var_mensal_3D\") \\\n",
    "    .withColumnRenamed(\"Var. mensal (%) 4D\", \"var_mensal_4D\") \\\n",
    "    .withColumnRenamed(\"Var. em 12 meses (%) Total\", \"variacao_total_anual\") \\\n",
    "    .withColumnRenamed(\"Var. em 12 meses (%) 1D\", \"variacao_anual_1D\") \\\n",
    "    .withColumnRenamed(\"Var. em 12 meses (%) 2D\", \"variacao_anual_2D\") \\\n",
    "    .withColumnRenamed(\"Var. em 12 meses (%) 3D\", \"variacao_anual_3D\") \\\n",
    "    .withColumnRenamed(\"Var. em 12 meses (%) 4D\", \"variacao_anual_4D\") \\\n",
    "    .withColumnRenamed(\"Pre�o m�dio (R$/m�) Total\", \"preco_medio_m2_total\") \\\n",
    "    .withColumnRenamed(\"Pre�o m�dio (R$/m�) 1D\", \"preco_medio_m2_1D\") \\\n",
    "    .withColumnRenamed(\"Pre�o m�dio (R$/m�) 2D\", \"preco_medio_m2_2D\") \\\n",
    "    .withColumnRenamed(\"Pre�o m�dio (R$/m�) 3D\", \"preco_medio_m2_3D\") \\\n",
    "    .withColumnRenamed(\"Pre�o m�dio (R$/m�) 4D\", \"preco_medio_m2_4D\") \\\n",
    "    .withColumnRenamed(\"(% - mensalizada) Total\", \"var.mensalizada_total\") \\\n",
    "    .withColumnRenamed(\"(% - mensalizada) 1D\", \"var.mensalizada_1D\") \\\n",
    "    .withColumnRenamed(\"(% - mensalizada) 2D\", \"var.mensalizada_2D\") \\\n",
    "    .withColumnRenamed(\"(% - mensalizada) 3D\", \"var.mensalizada_3D\") \\\n",
    "    .withColumnRenamed(\"(% - mensalizada) 4D\", \"var.mensalizada_4D\") \\\n",
    "    .withColumnRenamed(\"Data\", \"data\")\n"
   ]
  },
  {
   "cell_type": "code",
   "execution_count": 0,
   "metadata": {
    "application/vnd.databricks.v1+cell": {
     "cellMetadata": {
      "byteLimit": 2048000,
      "rowLimit": 10000
     },
     "inputWidgets": {},
     "nuid": "a2f3d502-92de-46b7-a350-851401fdac6f",
     "showTitle": false,
     "title": ""
    }
   },
   "outputs": [],
   "source": [
    "df_2.display()"
   ]
  },
  {
   "cell_type": "code",
   "execution_count": 0,
   "metadata": {
    "application/vnd.databricks.v1+cell": {
     "cellMetadata": {
      "byteLimit": 2048000,
      "rowLimit": 10000
     },
     "inputWidgets": {},
     "nuid": "da5d4bfe-f570-48f9-9eed-0d3962f76f85",
     "showTitle": false,
     "title": ""
    }
   },
   "outputs": [],
   "source": [
    "df_2.coalesce(1).write.format(\"delta\").saveAsTable(\"bronze.dados_sp.sp_aluguel\")"
   ]
  },
  {
   "cell_type": "markdown",
   "metadata": {
    "application/vnd.databricks.v1+cell": {
     "cellMetadata": {},
     "inputWidgets": {},
     "nuid": "3ea05668-a089-47a5-a3a3-91d50b3e3a30",
     "showTitle": false,
     "title": ""
    }
   },
   "source": []
  },
  {
   "cell_type": "code",
   "execution_count": 0,
   "metadata": {
    "application/vnd.databricks.v1+cell": {
     "cellMetadata": {
      "byteLimit": 2048000,
      "implicitDf": true,
      "rowLimit": 10000
     },
     "inputWidgets": {},
     "nuid": "7c291512-96bb-410b-8d11-58110352d4c3",
     "showTitle": false,
     "title": ""
    }
   },
   "outputs": [],
   "source": [
    "%sql\n",
    "SELECT * FROM bronze.dados_sp.sp_venda"
   ]
  }
 ],
 "metadata": {
  "application/vnd.databricks.v1+notebook": {
   "dashboards": [],
   "environmentMetadata": null,
   "language": "python",
   "notebookMetadata": {
    "mostRecentlyExecutedCommandWithImplicitDF": {
     "commandId": 1560564542913003,
     "dataframes": [
      "_sqldf"
     ]
    },
    "pythonIndentUnit": 4
   },
   "notebookName": "raw_to_bronze_sp",
   "widgets": {}
  }
 },
 "nbformat": 4,
 "nbformat_minor": 0
}
